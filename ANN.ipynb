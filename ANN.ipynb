{
  "nbformat": 4,
  "nbformat_minor": 0,
  "metadata": {
    "colab": {
      "provenance": [],
      "authorship_tag": "ABX9TyPILkzMCapZbe1FnQqrw4w6",
      "include_colab_link": true
    },
    "kernelspec": {
      "name": "python3",
      "display_name": "Python 3"
    },
    "language_info": {
      "name": "python"
    }
  },
  "cells": [
    {
      "cell_type": "markdown",
      "metadata": {
        "id": "view-in-github",
        "colab_type": "text"
      },
      "source": [
        "<a href=\"https://colab.research.google.com/github/shreyasbkgit/ailab/blob/main/ANN.ipynb\" target=\"_parent\"><img src=\"https://colab.research.google.com/assets/colab-badge.svg\" alt=\"Open In Colab\"/></a>"
      ]
    },
    {
      "cell_type": "code",
      "execution_count": 2,
      "metadata": {
        "colab": {
          "base_uri": "https://localhost:8080/",
          "height": 673
        },
        "id": "DkBpnIL7bz6K",
        "outputId": "4d8e359a-86ac-415c-8f50-f6cd9a01c60c"
      },
      "outputs": [
        {
          "output_type": "stream",
          "name": "stdout",
          "text": [
            "Epoch 0, Loss: 0.3792\n",
            "Epoch 1000, Loss: 0.0149\n",
            "Epoch 2000, Loss: 0.0140\n",
            "Epoch 3000, Loss: 0.0130\n",
            "Epoch 4000, Loss: 0.0121\n",
            "Epoch 5000, Loss: 0.0112\n",
            "Epoch 6000, Loss: 0.0098\n",
            "Epoch 7000, Loss: 0.0085\n",
            "Epoch 8000, Loss: 0.0084\n",
            "Epoch 9000, Loss: 0.0082\n"
          ]
        },
        {
          "output_type": "display_data",
          "data": {
            "text/plain": [
              "<Figure size 640x480 with 1 Axes>"
            ],
            "image/png": "[encoded data removed]"
          },
          "metadata": {}
        },
        {
          "output_type": "stream",
          "name": "stdout",
          "text": [
            "Test Accuracy: 0.97\n"
          ]
        }
      ],
      "source": [
        "import numpy as np\n",
        "import matplotlib.pyplot as plt\n",
        "from sklearn.datasets import make_moons\n",
        "from sklearn.model_selection import train_test_split\n",
        "from sklearn.preprocessing import OneHotEncoder\n",
        "\n",
        "# Generate dataset\n",
        "X, y = make_moons(n_samples=500, noise=0.2, random_state=42)\n",
        "y = y.reshape(-1, 1)\n",
        "\n",
        "# One-hot encode labels\n",
        "encoder = OneHotEncoder(sparse_output=False)\n",
        "y = encoder.fit_transform(y)\n",
        "\n",
        "# Split dataset\n",
        "X_train, X_test, y_train, y_test = train_test_split(X, y, test_size=0.2, random_state=42)\n",
        "\n",
        "# Activation functions\n",
        "def sigmoid(x):\n",
        "    return 1 / (1 + np.exp(-x))\n",
        "\n",
        "def sigmoid_derivative(x):\n",
        "    return x * (1 - x)\n",
        "\n",
        "# Neural Network parameters\n",
        "input_size = X_train.shape[1]\n",
        "hidden_size = 5\n",
        "output_size = y_train.shape[1]\n",
        "learning_rate = 0.1\n",
        "epochs = 10000\n",
        "\n",
        "# Initialize weights and biases\n",
        "np.random.seed(42)\n",
        "W1 = np.random.randn(input_size, hidden_size)\n",
        "B1 = np.zeros((1, hidden_size))\n",
        "W2 = np.random.randn(hidden_size, output_size)\n",
        "B2 = np.zeros((1, output_size))\n",
        "\n",
        "# Training loop\n",
        "losses = []\n",
        "for epoch in range(epochs):\n",
        "    # Forward propagation\n",
        "    Z1 = np.dot(X_train, W1) + B1\n",
        "    A1 = sigmoid(Z1)\n",
        "    Z2 = np.dot(A1, W2) + B2\n",
        "    A2 = sigmoid(Z2)\n",
        "\n",
        "    # Compute loss (Mean Squared Error)\n",
        "    loss = np.mean((A2 - y_train) ** 2)\n",
        "    losses.append(loss)\n",
        "\n",
        "    # Backpropagation\n",
        "    dA2 = A2 - y_train\n",
        "    dZ2 = dA2 * sigmoid_derivative(A2)\n",
        "    dW2 = np.dot(A1.T, dZ2)\n",
        "    dB2 = np.sum(dZ2, axis=0, keepdims=True)\n",
        "\n",
        "    dA1 = np.dot(dZ2, W2.T)\n",
        "    dZ1 = dA1 * sigmoid_derivative(A1)\n",
        "    dW1 = np.dot(X_train.T, dZ1)\n",
        "    dB1 = np.sum(dZ1, axis=0, keepdims=True)\n",
        "\n",
        "    # Update weights and biases\n",
        "    W2 -= learning_rate * dW2\n",
        "    B2 -= learning_rate * dB2\n",
        "    W1 -= learning_rate * dW1\n",
        "    B1 -= learning_rate * dB1\n",
        "\n",
        "    # Print loss every 1000 epochs\n",
        "    if epoch % 1000 == 0:\n",
        "        print(f\"Epoch {epoch}, Loss: {loss:.4f}\")\n",
        "\n",
        "# Plot loss curve\n",
        "plt.plot(losses)\n",
        "plt.xlabel(\"Epochs\")\n",
        "plt.ylabel(\"Loss\")\n",
        "plt.title(\"Training Loss Curve\")\n",
        "plt.show()\n",
        "\n",
        "# Predictions\n",
        "def predict(X):\n",
        "    Z1 = np.dot(X, W1) + B1\n",
        "    A1 = sigmoid(Z1)\n",
        "    Z2 = np.dot(A1, W2) + B2\n",
        "    A2 = sigmoid(Z2)\n",
        "    return np.argmax(A2, axis=1)\n",
        "\n",
        "# Evaluate model\n",
        "predictions = predict(X_test)\n",
        "y_test_labels = np.argmax(y_test, axis=1)\n",
        "accuracy = np.mean(predictions == y_test_labels)\n",
        "print(f\"Test Accuracy: {accuracy:.2f}\")\n"
      ]
    }
  ]
}