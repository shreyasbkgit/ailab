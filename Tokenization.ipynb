{
  "nbformat": 4,
  "nbformat_minor": 0,
  "metadata": {
    "colab": {
      "provenance": [],
      "authorship_tag": "ABX9TyOH7vsLiaRidPCxeTtZ+NIp",
      "include_colab_link": true
    },
    "kernelspec": {
      "name": "python3",
      "display_name": "Python 3"
    },
    "language_info": {
      "name": "python"
    }
  },
  "cells": [
    {
      "cell_type": "markdown",
      "metadata": {
        "id": "view-in-github",
        "colab_type": "text"
      },
      "source": [
        "<a href=\"https://colab.research.google.com/github/shreyasbkgit/ailab/blob/main/Tokenization.ipynb\" target=\"_parent\"><img src=\"https://colab.research.google.com/assets/colab-badge.svg\" alt=\"Open In Colab\"/></a>"
      ]
    },
    {
      "cell_type": "code",
      "source": [
        "\n",
        "user_input = input(\"Enter some text: \")\n",
        "upper_input = user_input.upper()\n",
        "upper_input\n"
      ],
      "metadata": {
        "colab": {
          "base_uri": "https://localhost:8080/",
          "height": 53
        },
        "id": "30lu0Lw06sx3",
        "outputId": "c23ddb08-85e5-4146-e93a-0999005c6126"
      },
      "execution_count": null,
      "outputs": [
        {
          "name": "stdout",
          "output_type": "stream",
          "text": [
            "Enter some text: hello world \n"
          ]
        },
        {
          "output_type": "execute_result",
          "data": {
            "text/plain": [
              "'HELLO WORLD '"
            ],
            "application/vnd.google.colaboratory.intrinsic+json": {
              "type": "string"
            }
          },
          "metadata": {},
          "execution_count": 12
        }
      ]
    },
    {
      "cell_type": "code",
      "source": [
        "import nltk\n",
        "from nltk.stem import PorterStemmer\n",
        "from nltk.tokenize import word_tokenize\n",
        "text=input(\"Enter some text: \")\n",
        "text = text.lower()\n",
        "words = word_tokenize(text)\n",
        "ps = PorterStemmer()\n",
        "stemmed_words = [ps.stem(w) for w in words]\n",
        "stemmed_words"
      ],
      "metadata": {
        "colab": {
          "base_uri": "https://localhost:8080/"
        },
        "id": "fQzNzOcf7Agl",
        "outputId": "6c720a24-79ad-4a49-ec79-36fe776e7a9c"
      },
      "execution_count": null,
      "outputs": [
        {
          "name": "stdout",
          "output_type": "stream",
          "text": [
            "Enter some text: Once upon a time, in a quaint village nestled between rolling hills and lush forests, there lived a young girl named Aria. Aria had a special gift: she could communicate with animals. Every morning, she would wander into the forest, where the birds would sing her songs, and the deer would share their secrets. One day, a mysterious creature appeared, and Aria's life changed forever...\n"
          ]
        },
        {
          "output_type": "execute_result",
          "data": {
            "text/plain": [
              "['onc',\n",
              " 'upon',\n",
              " 'a',\n",
              " 'time',\n",
              " ',',\n",
              " 'in',\n",
              " 'a',\n",
              " 'quaint',\n",
              " 'villag',\n",
              " 'nestl',\n",
              " 'between',\n",
              " 'roll',\n",
              " 'hill',\n",
              " 'and',\n",
              " 'lush',\n",
              " 'forest',\n",
              " ',',\n",
              " 'there',\n",
              " 'live',\n",
              " 'a',\n",
              " 'young',\n",
              " 'girl',\n",
              " 'name',\n",
              " 'aria',\n",
              " '.',\n",
              " 'aria',\n",
              " 'had',\n",
              " 'a',\n",
              " 'special',\n",
              " 'gift',\n",
              " ':',\n",
              " 'she',\n",
              " 'could',\n",
              " 'commun',\n",
              " 'with',\n",
              " 'anim',\n",
              " '.',\n",
              " 'everi',\n",
              " 'morn',\n",
              " ',',\n",
              " 'she',\n",
              " 'would',\n",
              " 'wander',\n",
              " 'into',\n",
              " 'the',\n",
              " 'forest',\n",
              " ',',\n",
              " 'where',\n",
              " 'the',\n",
              " 'bird',\n",
              " 'would',\n",
              " 'sing',\n",
              " 'her',\n",
              " 'song',\n",
              " ',',\n",
              " 'and',\n",
              " 'the',\n",
              " 'deer',\n",
              " 'would',\n",
              " 'share',\n",
              " 'their',\n",
              " 'secret',\n",
              " '.',\n",
              " 'one',\n",
              " 'day',\n",
              " ',',\n",
              " 'a',\n",
              " 'mysteri',\n",
              " 'creatur',\n",
              " 'appear',\n",
              " ',',\n",
              " 'and',\n",
              " 'aria',\n",
              " \"'s\",\n",
              " 'life',\n",
              " 'chang',\n",
              " 'forev',\n",
              " '...']"
            ]
          },
          "metadata": {},
          "execution_count": 16
        }
      ]
    },
    {
      "cell_type": "code",
      "source": [
        "import nltk\n",
        "from nltk.tokenize import word_tokenize\n",
        "text=input(\"Enter some text: \")\n",
        "text = text.lower()\n",
        "words = word_tokenize(text)\n",
        "pos_tags = nltk.pos_tag(words)\n",
        "pos_tags"
      ],
      "metadata": {
        "colab": {
          "base_uri": "https://localhost:8080/"
        },
        "id": "GMSfrozE7lnO",
        "outputId": "1636984a-bf6a-42a1-8cf2-29ebb62611b5"
      },
      "execution_count": null,
      "outputs": [
        {
          "name": "stdout",
          "output_type": "stream",
          "text": [
            "Enter some text: Once upon a time, in a quaint village nestled between rolling hills and lush forests, there lived a young girl named Aria. Aria had a special gift: she could communicate with animals. Every morning, she would wander into the forest, where the birds would sing her songs, and the deer would share their secrets. One day, a mysterious creature appeared, and Aria's life changed forever...\n"
          ]
        },
        {
          "output_type": "execute_result",
          "data": {
            "text/plain": [
              "[('once', 'RB'),\n",
              " ('upon', 'IN'),\n",
              " ('a', 'DT'),\n",
              " ('time', 'NN'),\n",
              " (',', ','),\n",
              " ('in', 'IN'),\n",
              " ('a', 'DT'),\n",
              " ('quaint', 'NN'),\n",
              " ('village', 'NN'),\n",
              " ('nestled', 'VBD'),\n",
              " ('between', 'IN'),\n",
              " ('rolling', 'VBG'),\n",
              " ('hills', 'NNS'),\n",
              " ('and', 'CC'),\n",
              " ('lush', 'JJ'),\n",
              " ('forests', 'NNS'),\n",
              " (',', ','),\n",
              " ('there', 'EX'),\n",
              " ('lived', 'VBD'),\n",
              " ('a', 'DT'),\n",
              " ('young', 'JJ'),\n",
              " ('girl', 'NN'),\n",
              " ('named', 'VBN'),\n",
              " ('aria', 'NN'),\n",
              " ('.', '.'),\n",
              " ('aria', 'NN'),\n",
              " ('had', 'VBD'),\n",
              " ('a', 'DT'),\n",
              " ('special', 'JJ'),\n",
              " ('gift', 'NN'),\n",
              " (':', ':'),\n",
              " ('she', 'PRP'),\n",
              " ('could', 'MD'),\n",
              " ('communicate', 'VB'),\n",
              " ('with', 'IN'),\n",
              " ('animals', 'NNS'),\n",
              " ('.', '.'),\n",
              " ('every', 'DT'),\n",
              " ('morning', 'NN'),\n",
              " (',', ','),\n",
              " ('she', 'PRP'),\n",
              " ('would', 'MD'),\n",
              " ('wander', 'VB'),\n",
              " ('into', 'IN'),\n",
              " ('the', 'DT'),\n",
              " ('forest', 'NN'),\n",
              " (',', ','),\n",
              " ('where', 'WRB'),\n",
              " ('the', 'DT'),\n",
              " ('birds', 'NNS'),\n",
              " ('would', 'MD'),\n",
              " ('sing', 'VB'),\n",
              " ('her', 'PRP$'),\n",
              " ('songs', 'NNS'),\n",
              " (',', ','),\n",
              " ('and', 'CC'),\n",
              " ('the', 'DT'),\n",
              " ('deer', 'NN'),\n",
              " ('would', 'MD'),\n",
              " ('share', 'NN'),\n",
              " ('their', 'PRP$'),\n",
              " ('secrets', 'NNS'),\n",
              " ('.', '.'),\n",
              " ('one', 'CD'),\n",
              " ('day', 'NN'),\n",
              " (',', ','),\n",
              " ('a', 'DT'),\n",
              " ('mysterious', 'JJ'),\n",
              " ('creature', 'NN'),\n",
              " ('appeared', 'VBD'),\n",
              " (',', ','),\n",
              " ('and', 'CC'),\n",
              " ('aria', 'NN'),\n",
              " (\"'s\", 'POS'),\n",
              " ('life', 'NN'),\n",
              " ('changed', 'VBD'),\n",
              " ('forever', 'RB'),\n",
              " ('...', ':')]"
            ]
          },
          "metadata": {},
          "execution_count": 22
        }
      ]
    },
    {
      "cell_type": "code",
      "source": [
        "import spacy\n",
        "nlp=spacy.load('en_core_web_sm')\n",
        "doc=nlp('she saw a bear')\n",
        "for word in doc:\n",
        "  print (word.text,word.pos_)"
      ],
      "metadata": {
        "colab": {
          "base_uri": "https://localhost:8080/"
        },
        "id": "shEVzJgs7sru",
        "outputId": "8b318bd1-5f41-42c7-960f-d85a05497be1"
      },
      "execution_count": null,
      "outputs": [
        {
          "output_type": "stream",
          "name": "stdout",
          "text": [
            "she PRON\n",
            "saw VERB\n",
            "a DET\n",
            "bear NOUN\n"
          ]
        }
      ]
    },
    {
      "cell_type": "code",
      "source": [
        "import re\n",
        "text='converting line with so    many            spaces to line with single space between words.'\n",
        "print(text.split())\n"
      ],
      "metadata": {
        "id": "C-Rbvr0YBQ8X",
        "colab": {
          "base_uri": "https://localhost:8080/"
        },
        "outputId": "6e1dcaa3-e4d1-4145-c920-1b1f2662a2ea"
      },
      "execution_count": null,
      "outputs": [
        {
          "output_type": "stream",
          "name": "stdout",
          "text": [
            "['converting', 'line', 'with', 'so', 'many', 'spaces', 'to', 'line', 'with', 'single', 'space', 'between', 'words']\n"
          ]
        }
      ]
    },
    {
      "cell_type": "code",
      "source": [
        "import re\n",
        "text=\"Converting line   with many  spaces to  one space\"\n",
        "text=re.sub(' +',' ',text)\n",
        "text[1]"
      ],
      "metadata": {
        "colab": {
          "base_uri": "https://localhost:8080/",
          "height": 35
        },
        "id": "UWxT2J2OlocM",
        "outputId": "5e2c0121-f299-410e-fd72-3f4a1247fd56"
      },
      "execution_count": null,
      "outputs": [
        {
          "output_type": "execute_result",
          "data": {
            "text/plain": [
              "'o'"
            ],
            "application/vnd.google.colaboratory.intrinsic+json": {
              "type": "string"
            }
          },
          "metadata": {},
          "execution_count": 64
        }
      ]
    },
    {
      "cell_type": "code",
      "source": [
        "import re\n",
        "text=\"Converting line   12345  with many 2515465526 spaces to  one space\"\n",
        "unwanted=['[0-9]+',' +']\n",
        "text1=re.sub(unwanted,'*',text)\n",
        "text1"
      ],
      "metadata": {
        "colab": {
          "base_uri": "https://localhost:8080/",
          "height": 339
        },
        "id": "HD3u5Rv4nmGz",
        "outputId": "170b172d-11eb-4410-bbc9-766f51ea90e7"
      },
      "execution_count": null,
      "outputs": [
        {
          "output_type": "error",
          "ename": "TypeError",
          "evalue": "unhashable type: 'list'",
          "traceback": [
            "\u001b[0;31m---------------------------------------------------------------------------\u001b[0m",
            "\u001b[0;31mTypeError\u001b[0m                                 Traceback (most recent call last)",
            "\u001b[0;32m<ipython-input-50-ae27bf927274>\u001b[0m in \u001b[0;36m<cell line: 0>\u001b[0;34m()\u001b[0m\n\u001b[1;32m      2\u001b[0m \u001b[0mtext\u001b[0m\u001b[0;34m=\u001b[0m\u001b[0;34m\"Converting line   12345  with many 2515465526 spaces to  one space\"\u001b[0m\u001b[0;34m\u001b[0m\u001b[0;34m\u001b[0m\u001b[0m\n\u001b[1;32m      3\u001b[0m \u001b[0munwanted\u001b[0m\u001b[0;34m=\u001b[0m\u001b[0;34m[\u001b[0m\u001b[0;34m'[0-9]+'\u001b[0m\u001b[0;34m,\u001b[0m\u001b[0;34m' +'\u001b[0m\u001b[0;34m]\u001b[0m\u001b[0;34m\u001b[0m\u001b[0;34m\u001b[0m\u001b[0m\n\u001b[0;32m----> 4\u001b[0;31m \u001b[0mtext1\u001b[0m\u001b[0;34m=\u001b[0m\u001b[0mre\u001b[0m\u001b[0;34m.\u001b[0m\u001b[0msub\u001b[0m\u001b[0;34m(\u001b[0m\u001b[0munwanted\u001b[0m\u001b[0;34m,\u001b[0m\u001b[0;34m'*'\u001b[0m\u001b[0;34m,\u001b[0m\u001b[0mtext\u001b[0m\u001b[0;34m)\u001b[0m\u001b[0;34m\u001b[0m\u001b[0;34m\u001b[0m\u001b[0m\n\u001b[0m\u001b[1;32m      5\u001b[0m \u001b[0mtext1\u001b[0m\u001b[0;34m\u001b[0m\u001b[0;34m\u001b[0m\u001b[0m\n",
            "\u001b[0;32m/usr/lib/python3.11/re/__init__.py\u001b[0m in \u001b[0;36msub\u001b[0;34m(pattern, repl, string, count, flags)\u001b[0m\n\u001b[1;32m    183\u001b[0m     \u001b[0ma\u001b[0m \u001b[0mcallable\u001b[0m\u001b[0;34m,\u001b[0m \u001b[0mit\u001b[0m\u001b[0;31m'\u001b[0m\u001b[0ms\u001b[0m \u001b[0mpassed\u001b[0m \u001b[0mthe\u001b[0m \u001b[0mMatch\u001b[0m \u001b[0mobject\u001b[0m \u001b[0;32mand\u001b[0m \u001b[0mmust\u001b[0m \u001b[0;32mreturn\u001b[0m\u001b[0;34m\u001b[0m\u001b[0;34m\u001b[0m\u001b[0m\n\u001b[1;32m    184\u001b[0m     a replacement string to be used.\"\"\"\n\u001b[0;32m--> 185\u001b[0;31m     \u001b[0;32mreturn\u001b[0m \u001b[0m_compile\u001b[0m\u001b[0;34m(\u001b[0m\u001b[0mpattern\u001b[0m\u001b[0;34m,\u001b[0m \u001b[0mflags\u001b[0m\u001b[0;34m)\u001b[0m\u001b[0;34m.\u001b[0m\u001b[0msub\u001b[0m\u001b[0;34m(\u001b[0m\u001b[0mrepl\u001b[0m\u001b[0;34m,\u001b[0m \u001b[0mstring\u001b[0m\u001b[0;34m,\u001b[0m \u001b[0mcount\u001b[0m\u001b[0;34m)\u001b[0m\u001b[0;34m\u001b[0m\u001b[0;34m\u001b[0m\u001b[0m\n\u001b[0m\u001b[1;32m    186\u001b[0m \u001b[0;34m\u001b[0m\u001b[0m\n\u001b[1;32m    187\u001b[0m \u001b[0;32mdef\u001b[0m \u001b[0msubn\u001b[0m\u001b[0;34m(\u001b[0m\u001b[0mpattern\u001b[0m\u001b[0;34m,\u001b[0m \u001b[0mrepl\u001b[0m\u001b[0;34m,\u001b[0m \u001b[0mstring\u001b[0m\u001b[0;34m,\u001b[0m \u001b[0mcount\u001b[0m\u001b[0;34m=\u001b[0m\u001b[0;36m0\u001b[0m\u001b[0;34m,\u001b[0m \u001b[0mflags\u001b[0m\u001b[0;34m=\u001b[0m\u001b[0;36m0\u001b[0m\u001b[0;34m)\u001b[0m\u001b[0;34m:\u001b[0m\u001b[0;34m\u001b[0m\u001b[0;34m\u001b[0m\u001b[0m\n",
            "\u001b[0;32m/usr/lib/python3.11/re/__init__.py\u001b[0m in \u001b[0;36m_compile\u001b[0;34m(pattern, flags)\u001b[0m\n\u001b[1;32m    275\u001b[0m         \u001b[0mflags\u001b[0m \u001b[0;34m=\u001b[0m \u001b[0mflags\u001b[0m\u001b[0;34m.\u001b[0m\u001b[0mvalue\u001b[0m\u001b[0;34m\u001b[0m\u001b[0;34m\u001b[0m\u001b[0m\n\u001b[1;32m    276\u001b[0m     \u001b[0;32mtry\u001b[0m\u001b[0;34m:\u001b[0m\u001b[0;34m\u001b[0m\u001b[0;34m\u001b[0m\u001b[0m\n\u001b[0;32m--> 277\u001b[0;31m         \u001b[0;32mreturn\u001b[0m \u001b[0m_cache\u001b[0m\u001b[0;34m[\u001b[0m\u001b[0mtype\u001b[0m\u001b[0;34m(\u001b[0m\u001b[0mpattern\u001b[0m\u001b[0;34m)\u001b[0m\u001b[0;34m,\u001b[0m \u001b[0mpattern\u001b[0m\u001b[0;34m,\u001b[0m \u001b[0mflags\u001b[0m\u001b[0;34m]\u001b[0m\u001b[0;34m\u001b[0m\u001b[0;34m\u001b[0m\u001b[0m\n\u001b[0m\u001b[1;32m    278\u001b[0m     \u001b[0;32mexcept\u001b[0m \u001b[0mKeyError\u001b[0m\u001b[0;34m:\u001b[0m\u001b[0;34m\u001b[0m\u001b[0;34m\u001b[0m\u001b[0m\n\u001b[1;32m    279\u001b[0m         \u001b[0;32mpass\u001b[0m\u001b[0;34m\u001b[0m\u001b[0;34m\u001b[0m\u001b[0m\n",
            "\u001b[0;31mTypeError\u001b[0m: unhashable type: 'list'"
          ]
        }
      ]
    },
    {
      "cell_type": "code",
      "source": [
        "from nltk.corpus import stopwords\n",
        "text ='stopword is one of the important topic'\n",
        "nltk.download('stopwords')\n",
        "def remove_stopwords(text):\n",
        "  stop_words = set(stopwords.words('english'))\n",
        "  filtered_sentence=[]\n",
        "  for word in text.split():\n",
        "    if word not in stop_words:\n",
        "      filtered_sentence.append(word)\n",
        "  return ' '.join(filtered_sentence)\n",
        "text=remove_stopwords(text)\n",
        "text"
      ],
      "metadata": {
        "colab": {
          "base_uri": "https://localhost:8080/",
          "height": 70
        },
        "id": "NnKJcNiMl-7z",
        "outputId": "c1bb8650-f9c7-4043-c177-08f08542ac2a"
      },
      "execution_count": null,
      "outputs": [
        {
          "output_type": "stream",
          "name": "stderr",
          "text": [
            "[nltk_data] Downloading package stopwords to /root/nltk_data...\n",
            "[nltk_data]   Package stopwords is already up-to-date!\n"
          ]
        },
        {
          "output_type": "execute_result",
          "data": {
            "text/plain": [
              "'stopword one important topic'"
            ],
            "application/vnd.google.colaboratory.intrinsic+json": {
              "type": "string"
            }
          },
          "metadata": {},
          "execution_count": 74
        }
      ]
    },
    {
      "cell_type": "code",
      "source": [
        "import nltk\n",
        "import string\n",
        "import re\n",
        "from nltk.stem import PorterStemmer\n",
        "from nltk.tokenize import word_tokenize\n",
        "text=input(\"Enter some text: \")\n",
        "text = text.upper()\n",
        "def remove_stopwords(text):\n",
        "  stop_words = ['A','a']\n",
        "  filtered_sentence=[]\n",
        "  for word in text.split():\n",
        "    if word not in stop_words:\n",
        "      filtered_sentence.append(word)\n",
        "  return ' '.join(filtered_sentence)\n",
        "text=remove_stopwords(text)\n",
        "text=re.sub('[0-9]+','*',text)\n",
        "a = 0\n",
        "result = \"\"\n",
        "for word in word_tokenize(text):\n",
        "    for char in word:\n",
        "        if a == 0:\n",
        "            result += char.lower()\n",
        "            a = 1\n",
        "        else:\n",
        "            result += char.upper()\n",
        "            a = 0\n",
        "    result += ' '\n",
        "result\n"
      ],
      "metadata": {
        "colab": {
          "base_uri": "https://localhost:8080/",
          "height": 53
        },
        "id": "ODsQ6RBcmfFs",
        "outputId": "b2bf462f-e490-429e-b4cf-417bf522385d"
      },
      "execution_count": null,
      "outputs": [
        {
          "name": "stdout",
          "output_type": "stream",
          "text": [
            "Enter some text: Hi my name a happes to 8877 be shreyas\n"
          ]
        },
        {
          "output_type": "execute_result",
          "data": {
            "text/plain": [
              "'hI mY nAmE hApPeS tO * Be ShReYaS '"
            ],
            "application/vnd.google.colaboratory.intrinsic+json": {
              "type": "string"
            }
          },
          "metadata": {},
          "execution_count": 97
        }
      ]
    },
    {
      "cell_type": "code",
      "source": [
        "# prompt: how to flatten a nested list\n",
        "\n",
        "import nltk\n",
        "from nltk.stem import PorterStemmer\n",
        "from nltk.tokenize import word_tokenize\n",
        "import spacy\n",
        "import re\n",
        "from nltk.corpus import stopwords\n",
        "import string\n",
        "\n"
      ],
      "metadata": {
        "id": "9ZC0GIEluWAz"
      },
      "execution_count": null,
      "outputs": []
    }
  ]
}